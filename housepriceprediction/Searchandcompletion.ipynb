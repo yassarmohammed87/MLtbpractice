{
 "cells": [
  {
   "cell_type": "code",
   "execution_count": 1,
   "metadata": {},
   "outputs": [
    {
     "name": "stdout",
     "output_type": "stream",
     "text": [
      "importing Jupyter notebook from model.ipynb\n",
      "importing Jupyter notebook from Pipeline.ipynb\n",
      "importing Jupyter notebook from DownloadingData.ipynb\n",
      "importing Jupyter notebook from Testsetsplit.ipynb\n",
      "StratifiedShuffleSplit(n_splits=1, random_state=42, test_size=0.2,\n",
      "            train_size=None)\n",
      "importing Jupyter notebook from MyTransformer.ipynb\n",
      "importing Jupyter notebook from Data_Preparation.ipynb\n",
      "[-118.51     34.26     29.     2119.5     433.     1164.      408.\n",
      "    3.5409]\n",
      "longitude             -118.5100\n",
      "latitude                34.2600\n",
      "housing_median_age      29.0000\n",
      "total_rooms           2119.5000\n",
      "total_bedrooms         433.0000\n",
      "population            1164.0000\n",
      "households             408.0000\n",
      "median_income            3.5409\n",
      "dtype: float64\n",
      "[[-121.89     37.29     38.     ...  710.      339.        2.7042]\n",
      " [-121.93     37.05     14.     ...  306.      113.        6.4214]\n",
      " [-117.2      32.77     31.     ...  936.      462.        2.8621]\n",
      " ...\n",
      " [-116.4      34.09      9.     ... 2098.      765.        3.2723]\n",
      " [-118.01     33.82     31.     ... 1356.      356.        4.0625]\n",
      " [-122.45     37.77     52.     ... 1269.      639.        3.575 ]]\n",
      "Predictions: [215761.04517238 322494.20459726 213289.45871618  59402.41539407\n",
      " 197863.74576945]\n",
      "Labels: [286600.0, 340600.0, 196900.0, 46300.0, 254500.0]\n",
      "Scores: [68446.88321047 70548.83421866 69233.18294543 70323.07945285\n",
      " 69230.34672899 71358.44854395 65746.06928052 66909.5986893\n",
      " 72625.15362956 67895.80749228]\n",
      "Mean: 69231.74041920008\n",
      "Standard deviation: 1972.4823135954928\n",
      "Scores: [48854.69031589 46728.82434976 48861.6434858  51600.0782\n",
      " 48404.02360612 52996.30248469 47922.17281281 47228.26988543\n",
      " 52410.67429896 49592.89563756]\n",
      "Mean: 49459.95750770251\n",
      "Standard deviation: 2060.433903013562\n"
     ]
    }
   ],
   "source": [
    "import import_ipynb\n",
    "import pandas as pd\n",
    "import model\n",
    "import numpy as np"
   ]
  },
  {
   "cell_type": "code",
   "execution_count": 2,
   "metadata": {},
   "outputs": [
    {
     "data": {
      "text/plain": [
       "GridSearchCV(cv=5, error_score=nan,\n",
       "             estimator=RandomForestRegressor(bootstrap=True, ccp_alpha=0.0,\n",
       "                                             criterion='mse', max_depth=None,\n",
       "                                             max_features='auto',\n",
       "                                             max_leaf_nodes=None,\n",
       "                                             max_samples=None,\n",
       "                                             min_impurity_decrease=0.0,\n",
       "                                             min_impurity_split=None,\n",
       "                                             min_samples_leaf=1,\n",
       "                                             min_samples_split=2,\n",
       "                                             min_weight_fraction_leaf=0.0,\n",
       "                                             n_estimators=100, n_jobs=None,\n",
       "                                             oob_score=False, random_state=None,\n",
       "                                             verbose=0, warm_start=False),\n",
       "             iid='deprecated', n_jobs=None,\n",
       "             param_grid=[{'max_features': [2, 4, 6, 8],\n",
       "                          'n_estimators': [3, 10, 30]}],\n",
       "             pre_dispatch='2*n_jobs', refit=True, return_train_score=True,\n",
       "             scoring='neg_mean_squared_error', verbose=0)"
      ]
     },
     "execution_count": 2,
     "metadata": {},
     "output_type": "execute_result"
    }
   ],
   "source": [
    "housing_train=model.housing_train\n",
    "housing_labels=model.housing_labels\n",
    "from sklearn.model_selection import GridSearchCV\n",
    "from sklearn.ensemble import RandomForestRegressor\n",
    "param_grid=[{'n_estimators':[3,10,30],'max_features':[2,4,6,8]}]\n",
    "forest_reg=RandomForestRegressor()\n",
    "grid_search=GridSearchCV(forest_reg,param_grid,cv=5,scoring=\"neg_mean_squared_error\",return_train_score=True)\n",
    "grid_search.fit(housing_train,housing_labels)"
   ]
  },
  {
   "cell_type": "code",
   "execution_count": 3,
   "metadata": {},
   "outputs": [
    {
     "data": {
      "text/plain": [
       "{'max_features': 8, 'n_estimators': 30}"
      ]
     },
     "execution_count": 3,
     "metadata": {},
     "output_type": "execute_result"
    }
   ],
   "source": [
    "grid_search.best_params_"
   ]
  },
  {
   "cell_type": "code",
   "execution_count": 4,
   "metadata": {},
   "outputs": [
    {
     "data": {
      "text/plain": [
       "RandomForestRegressor(bootstrap=True, ccp_alpha=0.0, criterion='mse',\n",
       "                      max_depth=None, max_features=8, max_leaf_nodes=None,\n",
       "                      max_samples=None, min_impurity_decrease=0.0,\n",
       "                      min_impurity_split=None, min_samples_leaf=1,\n",
       "                      min_samples_split=2, min_weight_fraction_leaf=0.0,\n",
       "                      n_estimators=30, n_jobs=None, oob_score=False,\n",
       "                      random_state=None, verbose=0, warm_start=False)"
      ]
     },
     "execution_count": 4,
     "metadata": {},
     "output_type": "execute_result"
    }
   ],
   "source": [
    "grid_search.best_estimator_"
   ]
  },
  {
   "cell_type": "code",
   "execution_count": 5,
   "metadata": {},
   "outputs": [
    {
     "name": "stdout",
     "output_type": "stream",
     "text": [
      "63581.53028097537 {'max_features': 2, 'n_estimators': 3}\n",
      "54745.257476187224 {'max_features': 2, 'n_estimators': 10}\n",
      "52824.51775648223 {'max_features': 2, 'n_estimators': 30}\n",
      "59336.4562118015 {'max_features': 4, 'n_estimators': 3}\n",
      "52236.86477248254 {'max_features': 4, 'n_estimators': 10}\n",
      "49881.7803406037 {'max_features': 4, 'n_estimators': 30}\n",
      "57691.855865304446 {'max_features': 6, 'n_estimators': 3}\n",
      "50958.52842549556 {'max_features': 6, 'n_estimators': 10}\n",
      "49420.69435611154 {'max_features': 6, 'n_estimators': 30}\n",
      "58129.13413330922 {'max_features': 8, 'n_estimators': 3}\n",
      "51353.900838679874 {'max_features': 8, 'n_estimators': 10}\n",
      "49361.31351357954 {'max_features': 8, 'n_estimators': 30}\n"
     ]
    }
   ],
   "source": [
    "cvres=grid_search.cv_results_\n",
    "for mean_score,params in zip(cvres[\"mean_test_score\"],cvres[\"params\"]):\n",
    "    print(np.sqrt(-mean_score),params)"
   ]
  },
  {
   "cell_type": "code",
   "execution_count": 6,
   "metadata": {},
   "outputs": [
    {
     "data": {
      "text/plain": [
       "{'mean_fit_time': array([0.09400539, 0.30621758, 0.90545173, 0.13680787, 0.44962568,\n",
       "        1.35587754, 0.18761072, 0.64583688, 1.80690336, 0.22681293,\n",
       "        0.76604385, 2.2679297 ]),\n",
       " 'std_fit_time': array([0.0032866 , 0.00541878, 0.01273792, 0.00391938, 0.00480025,\n",
       "        0.03570849, 0.00372036, 0.02166601, 0.01417693, 0.00213567,\n",
       "        0.02066026, 0.00856556]),\n",
       " 'mean_score_time': array([0.00420022, 0.01160059, 0.03140187, 0.00400028, 0.0108006 ,\n",
       "        0.03060169, 0.00440021, 0.0120007 , 0.03100171, 0.00420027,\n",
       "        0.01240072, 0.0304018 ]),\n",
       " 'std_score_time': array([3.99947177e-04, 8.00001633e-04, 2.80022622e-03, 1.16800773e-07,\n",
       "        4.00066376e-04, 4.89940339e-04, 8.00037398e-04, 6.32485093e-04,\n",
       "        6.32485093e-04, 3.99923339e-04, 1.35652236e-03, 4.89901406e-04]),\n",
       " 'param_max_features': masked_array(data=[2, 2, 2, 4, 4, 4, 6, 6, 6, 8, 8, 8],\n",
       "              mask=[False, False, False, False, False, False, False, False,\n",
       "                    False, False, False, False],\n",
       "        fill_value='?',\n",
       "             dtype=object),\n",
       " 'param_n_estimators': masked_array(data=[3, 10, 30, 3, 10, 30, 3, 10, 30, 3, 10, 30],\n",
       "              mask=[False, False, False, False, False, False, False, False,\n",
       "                    False, False, False, False],\n",
       "        fill_value='?',\n",
       "             dtype=object),\n",
       " 'params': [{'max_features': 2, 'n_estimators': 3},\n",
       "  {'max_features': 2, 'n_estimators': 10},\n",
       "  {'max_features': 2, 'n_estimators': 30},\n",
       "  {'max_features': 4, 'n_estimators': 3},\n",
       "  {'max_features': 4, 'n_estimators': 10},\n",
       "  {'max_features': 4, 'n_estimators': 30},\n",
       "  {'max_features': 6, 'n_estimators': 3},\n",
       "  {'max_features': 6, 'n_estimators': 10},\n",
       "  {'max_features': 6, 'n_estimators': 30},\n",
       "  {'max_features': 8, 'n_estimators': 3},\n",
       "  {'max_features': 8, 'n_estimators': 10},\n",
       "  {'max_features': 8, 'n_estimators': 30}],\n",
       " 'split0_test_score': array([-3.69820791e+09, -2.83379245e+09, -2.60850544e+09, -3.42393552e+09,\n",
       "        -2.59809170e+09, -2.36789076e+09, -3.23091999e+09, -2.52192785e+09,\n",
       "        -2.28524798e+09, -3.32349093e+09, -2.51308284e+09, -2.28638568e+09]),\n",
       " 'split1_test_score': array([-4.23489097e+09, -3.07639316e+09, -2.92245960e+09, -3.59046231e+09,\n",
       "        -2.70008860e+09, -2.54064691e+09, -3.29874945e+09, -2.58392362e+09,\n",
       "        -2.50767446e+09, -3.35202873e+09, -2.67222360e+09, -2.48808017e+09]),\n",
       " 'split2_test_score': array([-4.25649207e+09, -3.08355964e+09, -2.91294691e+09, -3.60948808e+09,\n",
       "        -2.96827059e+09, -2.59610018e+09, -3.58124479e+09, -2.74080072e+09,\n",
       "        -2.63645413e+09, -3.51429624e+09, -2.77754309e+09, -2.54944309e+09]),\n",
       " 'split3_test_score': array([-3.83784625e+09, -2.81135218e+09, -2.64898893e+09, -3.36293585e+09,\n",
       "        -2.51679554e+09, -2.30709566e+09, -3.04456394e+09, -2.34269703e+09,\n",
       "        -2.25296876e+09, -3.20442121e+09, -2.44484094e+09, -2.24595223e+09]),\n",
       " 'split4_test_score': array([-4.18561777e+09, -3.18011864e+09, -2.85924750e+09, -3.61725342e+09,\n",
       "        -2.86020377e+09, -2.62922654e+09, -3.48627298e+09, -2.79450887e+09,\n",
       "        -2.52967983e+09, -3.50074406e+09, -2.77842518e+09, -2.61283519e+09]),\n",
       " 'mean_test_score': array([-4.04261099e+09, -2.99704322e+09, -2.79042968e+09, -3.52081504e+09,\n",
       "        -2.72869004e+09, -2.48819201e+09, -3.32835023e+09, -2.59677162e+09,\n",
       "        -2.44240503e+09, -3.37899624e+09, -2.63722313e+09, -2.43653927e+09]),\n",
       " 'std_test_score': array([2.29656145e+08, 1.47261734e+08, 1.34372749e+08, 1.06137170e+08,\n",
       "        1.65811909e+08, 1.27714297e+08, 1.89630573e+08, 1.61347425e+08,\n",
       "        1.48402481e+08, 1.16114728e+08, 1.36582912e+08, 1.45157506e+08]),\n",
       " 'rank_test_score': array([12,  8,  7, 11,  6,  3,  9,  4,  2, 10,  5,  1]),\n",
       " 'split0_train_score': array([-1.03427552e+09, -5.47986015e+08, -4.29725191e+08, -9.82339716e+08,\n",
       "        -5.08103600e+08, -3.89946008e+08, -9.27617705e+08, -4.86940751e+08,\n",
       "        -3.76213352e+08, -8.96867913e+08, -4.93345592e+08, -3.71269504e+08]),\n",
       " 'split1_train_score': array([-1.14670282e+09, -5.78601725e+08, -4.29636409e+08, -9.49539058e+08,\n",
       "        -5.00245857e+08, -3.79684464e+08, -9.15038178e+08, -5.04649498e+08,\n",
       "        -3.84193512e+08, -8.50096956e+08, -4.81583263e+08, -3.83329183e+08]),\n",
       " 'split2_train_score': array([-1.07501436e+09, -5.57134497e+08, -4.26352790e+08, -8.94113797e+08,\n",
       "        -5.02412748e+08, -3.87438934e+08, -9.04043556e+08, -4.96279480e+08,\n",
       "        -3.86166086e+08, -8.93641656e+08, -4.89256542e+08, -3.71694334e+08]),\n",
       " 'split3_train_score': array([-1.09107432e+09, -5.89888237e+08, -4.24405525e+08, -9.18616167e+08,\n",
       "        -5.12581593e+08, -3.84877940e+08, -8.96011311e+08, -4.82929424e+08,\n",
       "        -3.70762855e+08, -8.78682633e+08, -4.81141023e+08, -3.84370443e+08]),\n",
       " 'split4_train_score': array([-1.13220487e+09, -5.51631017e+08, -4.15257808e+08, -9.08298861e+08,\n",
       "        -5.00711319e+08, -3.84848571e+08, -8.88236885e+08, -4.68427390e+08,\n",
       "        -3.61319467e+08, -8.48525520e+08, -4.89276373e+08, -3.71951047e+08]),\n",
       " 'mean_train_score': array([-1.09585438e+09, -5.65048298e+08, -4.25075545e+08, -9.30581520e+08,\n",
       "        -5.04811023e+08, -3.85359183e+08, -9.06189527e+08, -4.87845309e+08,\n",
       "        -3.75731055e+08, -8.73562936e+08, -4.86920558e+08, -3.76522902e+08]),\n",
       " 'std_train_score': array([40388198.17538214, 16337020.32277676,  5308275.21042697,\n",
       "        31647687.11316497,  4787961.21810826,  3407611.34185718,\n",
       "        13913763.21335959, 12292727.47024572,  9089692.36495987,\n",
       "        20736502.43184484,  4778650.11009008,  5995406.37776563])}"
      ]
     },
     "execution_count": 6,
     "metadata": {},
     "output_type": "execute_result"
    }
   ],
   "source": [
    "cvres"
   ]
  },
  {
   "cell_type": "code",
   "execution_count": 7,
   "metadata": {},
   "outputs": [
    {
     "data": {
      "text/plain": [
       "array([7.71703499e-02, 7.16471330e-02, 4.13465060e-02, 1.64681924e-02,\n",
       "       1.62033182e-02, 1.50810177e-02, 1.52821335e-02, 3.67697495e-01,\n",
       "       1.18273127e-01, 8.04179210e-02, 1.31182282e-02, 1.62178617e-01,\n",
       "       1.02693420e-04, 2.86852828e-03, 2.14473922e-03])"
      ]
     },
     "execution_count": 7,
     "metadata": {},
     "output_type": "execute_result"
    }
   ],
   "source": [
    "feature_importances=grid_search.best_estimator_.feature_importances_\n",
    "feature_importances"
   ]
  },
  {
   "cell_type": "code",
   "execution_count": 8,
   "metadata": {},
   "outputs": [],
   "source": [
    "import Pipeline"
   ]
  },
  {
   "cell_type": "code",
   "execution_count": 9,
   "metadata": {},
   "outputs": [],
   "source": [
    "extra_attribs=[\"rooms_per_hhold\",\"pop_per_hhold\",\"bedrooms_per_room\"]\n",
    "cat_encoder=Pipeline.full_pipeline.named_transformers_[\"cat\"]\n",
    "cat_one_hot_attribs=list(cat_encoder.categories_[0])\n",
    "attributes=Pipeline.num_attr + extra_attribs + cat_one_hot_attribs"
   ]
  },
  {
   "cell_type": "code",
   "execution_count": 10,
   "metadata": {},
   "outputs": [
    {
     "data": {
      "text/plain": [
       "[(0.36769749545537445, 'median_income'),\n",
       " (0.16217861674463208, '<1H OCEAN'),\n",
       " (0.11827312686334232, 'rooms_per_hhold'),\n",
       " (0.08041792101622257, 'pop_per_hhold'),\n",
       " (0.07717034994794017, 'longitude'),\n",
       " (0.07164713297740541, 'latitude'),\n",
       " (0.04134650601225136, 'housing_median_age'),\n",
       " (0.016468192355416005, 'total_rooms'),\n",
       " (0.016203318233564815, 'total_bedrooms'),\n",
       " (0.01528213354285991, 'households'),\n",
       " (0.015081017733160746, 'population'),\n",
       " (0.013118228190941814, 'bedrooms_per_room'),\n",
       " (0.0028685282843713598, 'ISLAND'),\n",
       " (0.002144739222288096, 'NEAR BAY'),\n",
       " (0.00010269342022897838, 'INLAND')]"
      ]
     },
     "execution_count": 10,
     "metadata": {},
     "output_type": "execute_result"
    }
   ],
   "source": [
    "sorted(zip(feature_importances,attributes),reverse=True)#shows the importance of each feature.Useful for dropping columns which are not reliable."
   ]
  },
  {
   "cell_type": "code",
   "execution_count": 11,
   "metadata": {},
   "outputs": [],
   "source": [
    "import Testsetsplit\n",
    "\n",
    "final_model=grid_search.best_estimator_\n",
    "X_test=Testsetsplit.strat_test_set.drop(columns=\"median_house_value\")\n",
    "y_test=Testsetsplit.strat_test_set[\"median_house_value\"].copy()"
   ]
  },
  {
   "cell_type": "code",
   "execution_count": 12,
   "metadata": {},
   "outputs": [],
   "source": [
    "X_test_prepared=Pipeline.full_pipeline.transform(X_test)"
   ]
  },
  {
   "cell_type": "code",
   "execution_count": 14,
   "metadata": {},
   "outputs": [],
   "source": [
    "from sklearn.metrics import mean_squared_error\n",
    "final_predictions=final_model.predict(X_test_prepared)\n",
    "final_mse=mean_squared_error(y_test,final_predictions)\n",
    "final_rmse=np.sqrt(final_mse)"
   ]
  },
  {
   "cell_type": "code",
   "execution_count": 15,
   "metadata": {},
   "outputs": [
    {
     "data": {
      "text/plain": [
       "47677.53373066988"
      ]
     },
     "execution_count": 15,
     "metadata": {},
     "output_type": "execute_result"
    }
   ],
   "source": [
    "final_rmse"
   ]
  },
  {
   "cell_type": "code",
   "execution_count": 2,
   "metadata": {},
   "outputs": [
    {
     "ename": "NameError",
     "evalue": "name 'cat_encoder' is not defined",
     "output_type": "error",
     "traceback": [
      "\u001b[1;31m---------------------------------------------------------------------------\u001b[0m",
      "\u001b[1;31mNameError\u001b[0m                                 Traceback (most recent call last)",
      "\u001b[1;32m<ipython-input-2-0bb2bbca5630>\u001b[0m in \u001b[0;36m<module>\u001b[1;34m\u001b[0m\n\u001b[1;32m----> 1\u001b[1;33m \u001b[0mprint\u001b[0m\u001b[1;33m(\u001b[0m\u001b[0mcat_encoder\u001b[0m\u001b[1;33m.\u001b[0m\u001b[0mcategories_\u001b[0m\u001b[1;33m)\u001b[0m\u001b[1;33m\u001b[0m\u001b[1;33m\u001b[0m\u001b[0m\n\u001b[0m",
      "\u001b[1;31mNameError\u001b[0m: name 'cat_encoder' is not defined"
     ]
    }
   ],
   "source": [
    "print(cat_encoder.categories_)"
   ]
  },
  {
   "cell_type": "code",
   "execution_count": null,
   "metadata": {},
   "outputs": [],
   "source": []
  }
 ],
 "metadata": {
  "kernelspec": {
   "display_name": "Python 3",
   "language": "python",
   "name": "python3"
  },
  "language_info": {
   "codemirror_mode": {
    "name": "ipython",
    "version": 3
   },
   "file_extension": ".py",
   "mimetype": "text/x-python",
   "name": "python",
   "nbconvert_exporter": "python",
   "pygments_lexer": "ipython3",
   "version": "3.7.6"
  }
 },
 "nbformat": 4,
 "nbformat_minor": 4
}
