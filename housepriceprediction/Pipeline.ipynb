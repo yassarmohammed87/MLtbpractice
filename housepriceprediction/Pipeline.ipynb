{
 "cells": [
  {
   "cell_type": "code",
   "execution_count": 1,
   "metadata": {},
   "outputs": [
    {
     "name": "stdout",
     "output_type": "stream",
     "text": [
      "importing Jupyter notebook from DownloadingData.ipynb\n",
      "importing Jupyter notebook from Testsetsplit.ipynb\n",
      "StratifiedShuffleSplit(n_splits=1, random_state=42, test_size=0.2,\n",
      "            train_size=None)\n",
      "importing Jupyter notebook from MyTransformer.ipynb\n"
     ]
    }
   ],
   "source": [
    "import import_ipynb\n",
    "import DownloadingData\n",
    "import pandas as pd \n",
    "import numpy as np\n",
    "import Testsetsplit\n",
    "import MyTransformer"
   ]
  },
  {
   "cell_type": "code",
   "execution_count": 2,
   "metadata": {},
   "outputs": [],
   "source": [
    "from sklearn.pipeline import Pipeline\n",
    "from sklearn.preprocessing import StandardScaler\n",
    "from sklearn.impute import SimpleImputer\n",
    "\n",
    "\n",
    "demo=Testsetsplit.strat_train_set.drop(columns=[\"ocean_proximity\",\"median_house_value\"])\n",
    "num_pipeline=Pipeline([\n",
    "    ('imputer',SimpleImputer(strategy=\"median\")),\n",
    "    ('attribs_adder',MyTransformer.CombinedAttributesAdder(False)),\n",
    "    ('std_scaler',StandardScaler()),])\n",
    "\n",
    "housing_num_tr=num_pipeline.fit_transform(demo)"
   ]
  },
  {
   "cell_type": "code",
   "execution_count": 3,
   "metadata": {},
   "outputs": [
    {
     "data": {
      "text/plain": [
       "array([[-1.15604281,  0.77194962,  0.74333089, ..., -0.61493744,\n",
       "         0.18575356, -0.08649871],\n",
       "       [-1.17602483,  0.6596948 , -1.1653172 , ...,  1.33645936,\n",
       "         0.19440151, -0.03353391],\n",
       "       [ 1.18684903, -1.34218285,  0.18664186, ..., -0.5320456 ,\n",
       "         0.08449912, -0.09240499],\n",
       "       ...,\n",
       "       [ 1.58648943, -0.72478134, -1.56295222, ..., -0.3167053 ,\n",
       "         0.27274564, -0.03055414],\n",
       "       [ 0.78221312, -0.85106801,  0.18664186, ...,  0.09812139,\n",
       "        -0.44247118,  0.06150916],\n",
       "       [-1.43579109,  0.99645926,  1.85670895, ..., -0.15779865,\n",
       "         0.37551419, -0.09586294]])"
      ]
     },
     "execution_count": 3,
     "metadata": {},
     "output_type": "execute_result"
    }
   ],
   "source": [
    "housing_num_tr"
   ]
  },
  {
   "cell_type": "code",
   "execution_count": 4,
   "metadata": {},
   "outputs": [],
   "source": [
    "from sklearn.compose import ColumnTransformer\n",
    "from sklearn.preprocessing import OneHotEncoder\n",
    "num_attr=list(demo)\n",
    "cat_attr=[\"ocean_proximity\"]\n",
    "full_pipeline=ColumnTransformer([(\"num\",num_pipeline,num_attr),\n",
    "                                 (\"cat\",OneHotEncoder(),cat_attr)])\n",
    "demo2=Testsetsplit.strat_train_set.drop(columns=\"median_house_value\")\n",
    "housing_train_og=full_pipeline.fit_transform(demo2)"
   ]
  },
  {
   "cell_type": "code",
   "execution_count": 5,
   "metadata": {},
   "outputs": [
    {
     "data": {
      "text/plain": [
       "array([[-1.15604281,  0.77194962,  0.74333089, ...,  0.        ,\n",
       "         0.        ,  0.        ],\n",
       "       [-1.17602483,  0.6596948 , -1.1653172 , ...,  0.        ,\n",
       "         0.        ,  0.        ],\n",
       "       [ 1.18684903, -1.34218285,  0.18664186, ...,  0.        ,\n",
       "         0.        ,  1.        ],\n",
       "       ...,\n",
       "       [ 1.58648943, -0.72478134, -1.56295222, ...,  0.        ,\n",
       "         0.        ,  0.        ],\n",
       "       [ 0.78221312, -0.85106801,  0.18664186, ...,  0.        ,\n",
       "         0.        ,  0.        ],\n",
       "       [-1.43579109,  0.99645926,  1.85670895, ...,  0.        ,\n",
       "         1.        ,  0.        ]])"
      ]
     },
     "execution_count": 5,
     "metadata": {},
     "output_type": "execute_result"
    }
   ],
   "source": [
    "housing_train_og"
   ]
  },
  {
   "cell_type": "code",
   "execution_count": 7,
   "metadata": {},
   "outputs": [],
   "source": [
    "sad=full_pipeline.named_transformers_[\"cat\"]\n",
    "sadsge=sad.categories_[0]"
   ]
  },
  {
   "cell_type": "code",
   "execution_count": 8,
   "metadata": {},
   "outputs": [
    {
     "data": {
      "text/plain": [
       "array(['<1H OCEAN', 'INLAND', 'ISLAND', 'NEAR BAY', 'NEAR OCEAN'],\n",
       "      dtype=object)"
      ]
     },
     "execution_count": 8,
     "metadata": {},
     "output_type": "execute_result"
    }
   ],
   "source": [
    "sadsge"
   ]
  },
  {
   "cell_type": "code",
   "execution_count": null,
   "metadata": {},
   "outputs": [],
   "source": []
  }
 ],
 "metadata": {
  "kernelspec": {
   "display_name": "Python 3",
   "language": "python",
   "name": "python3"
  },
  "language_info": {
   "codemirror_mode": {
    "name": "ipython",
    "version": 3
   },
   "file_extension": ".py",
   "mimetype": "text/x-python",
   "name": "python",
   "nbconvert_exporter": "python",
   "pygments_lexer": "ipython3",
   "version": "3.7.6"
  }
 },
 "nbformat": 4,
 "nbformat_minor": 4
}
